{
 "cells": [
  {
   "cell_type": "code",
   "execution_count": 1,
   "id": "39b750b8-440a-4af2-87db-6050c430d7b9",
   "metadata": {},
   "outputs": [],
   "source": [
    "import itertools"
   ]
  },
  {
   "cell_type": "code",
   "execution_count": 2,
   "id": "6b305690-0bcd-4f1a-934c-f8b1cc6c1947",
   "metadata": {},
   "outputs": [
    {
     "data": {
      "text/plain": [
       "(a, b, c, x, y, z)"
      ]
     },
     "execution_count": 2,
     "metadata": {},
     "output_type": "execute_result"
    }
   ],
   "source": [
    "var('a','b','c','x','y','z')"
   ]
  },
  {
   "cell_type": "code",
   "execution_count": 3,
   "id": "85a59533-214e-4b0b-8736-efc5e0de8e4d",
   "metadata": {},
   "outputs": [],
   "source": [
    "left_ = [a,b,c]\n",
    "right_ = [x,y,z]\n",
    "# right_ = [a,b,c]\n",
    "assume(b*x+c*y == a*y+b*z)\n",
    "Res = matrix([[left_[0],left_[1]],[left_[1],left_[2]]])*matrix([[right_[0],right_[1]],[right_[1],right_[2]]])"
   ]
  },
  {
   "cell_type": "code",
   "execution_count": 4,
   "id": "9dd9f39a-caf9-45af-8f3c-6479fe8d5649",
   "metadata": {},
   "outputs": [],
   "source": [
    "def simplify_under_assumption(expr):\n",
    "    return expr.expand().subs(left_[1]*(right_[0]-right_[2])  == right_[1]*(left_[0]-left_[2])).simplify_full()"
   ]
  },
  {
   "cell_type": "code",
   "execution_count": 5,
   "id": "0c748eee-d78d-45bc-8239-9fa9b56e5816",
   "metadata": {},
   "outputs": [],
   "source": [
    "left = left_ + [-i for i in left_]\n",
    "right = right_ + [-i for i in right_]\n",
    "\n",
    "left_pos = [x for x in itertools.chain(*[itertools.combinations(left, j) for j in [1,2]])]\n",
    "right_pos = [x for x in itertools.chain(*[itertools.combinations(right, j) for j in [1,2]])]"
   ]
  },
  {
   "cell_type": "code",
   "execution_count": 6,
   "id": "412aa10b-11cd-49ed-a53a-c6a8b8b84f83",
   "metadata": {},
   "outputs": [],
   "source": [
    "long_expressions = set(simplify_under_assumption(sum(l_terms)*sum(r_terms)) for l_terms, r_terms in itertools.product(left_pos, right_pos))"
   ]
  },
  {
   "cell_type": "code",
   "execution_count": 7,
   "id": "556cb3e6-25c7-49e7-9e60-3edc61e6fbe9",
   "metadata": {},
   "outputs": [],
   "source": [
    "str_long_expr = [str(l.expand()) for l in long_expressions if str(l) != '0']"
   ]
  },
  {
   "cell_type": "code",
   "execution_count": 8,
   "id": "3f0d1d6b-f4c4-455e-96f1-170a4a2970ac",
   "metadata": {},
   "outputs": [],
   "source": [
    "polynomials = sorted(set((l*r).simplify_full() for l,r in itertools.product(left_, right_)))\n",
    "dic = {str(poly): i for (i,poly) in enumerate(polynomials)}"
   ]
  },
  {
   "cell_type": "code",
   "execution_count": 9,
   "id": "ded3a444-9659-4661-a683-fa757e6e74ba",
   "metadata": {},
   "outputs": [],
   "source": [
    "def to_vec(string):\n",
    "    s = string.split()\n",
    "    val = 1\n",
    "    if s[0][0] == '-':\n",
    "        val = -1\n",
    "        s[0] = s[0][1:]\n",
    "    vec = [0 for _ in range(len(polynomials))]\n",
    "    for term in s:\n",
    "        if term == '-':\n",
    "            val = -1\n",
    "        elif term == '+':\n",
    "            val = 1\n",
    "        else:\n",
    "            terms = term.split('*')\n",
    "            coeff = 1\n",
    "\n",
    "            expr = ''\n",
    "            for t in terms:\n",
    "                if t.isnumeric():\n",
    "                    coeff *= int(t)\n",
    "                else:\n",
    "                    if len(expr) == 0:\n",
    "                        expr += t\n",
    "                    else:\n",
    "                        expr += '*' + t\n",
    "            vec[dic[expr]] = val*coeff\n",
    "    return vec"
   ]
  },
  {
   "cell_type": "code",
   "execution_count": 10,
   "id": "2e406652-e5b0-462b-84a3-f53a6b3a0d97",
   "metadata": {},
   "outputs": [
    {
     "name": "stdout",
     "output_type": "stream",
     "text": [
      "CPU times: user 6.25 ms, sys: 649 μs, total: 6.9 ms\n",
      "Wall time: 8 ms\n"
     ]
    }
   ],
   "source": [
    "%%time\n",
    "\n",
    "expressions = []\n",
    "L = []\n",
    "for expr in str_long_expr:\n",
    "    add_exprs = True\n",
    "    vec = matrix([to_vec(expr)])\n",
    "    for expr_og in expressions:\n",
    "        if expr_og == vec or expr_og == -vec:\n",
    "            add_exprs = False\n",
    "            break\n",
    "    if add_exprs:\n",
    "        expressions.append(vec)\n",
    "        L.append([v for v in vec[0]])\n",
    "\n",
    "L = column_matrix(L)"
   ]
  },
  {
   "cell_type": "code",
   "execution_count": 11,
   "id": "d9439138-2e9b-44e6-b939-ac72897e9e5e",
   "metadata": {},
   "outputs": [],
   "source": [
    "#k = [0, (a + b - c)*x + (a + b - c)*y, (a - b + c)*x + (a - b + c)*y, (b + c)*y + (b + c)*z, (a + c)*x + (a + c)*y + (a + c)*z, (a + c)*x - (a + c)*y - (a + c)*z, -(a + c)*x + (a + c)*y - (a + c)*z, -(a + c)*x - (a + c)*y + (a + c)*z, (b - c)*y - (b - c)*z, (a + b)*z, -(a - b)*z, c*x - c*y, (b - c)*x - (b - c)*z, a*z, -(a - c)*x, a*x + a*y + a*z, a*x - a*y - a*z, -a*x + a*y - a*z, -a*x - a*y + a*z, (a + b)*x + (a + b)*y, -(b + c)*y, (b - c)*y, b*x + b*y + b*z, b*x - b*y - b*z, -b*x + b*y - b*z, -b*x - b*y + b*z, -(a + c)*z, (a - c)*x - (a - c)*y, -b*z, -(a + b)*y, (a - b)*y, (a + b - c)*x + (a + b - c)*z, (a - b + c)*x + (a - b + c)*z, -a*y, (a + b + c)*x, -(a + b - c)*x, -(a - b + c)*x, (a - b - c)*x, (a - b + c)*y - (a - b + c)*z, (a + b - c)*y - (a + b - c)*z, (b + c)*x + (b + c)*y, (a + b + c)*y + (a + b + c)*z, (a - b - c)*y + (a - b - c)*z, (a + b)*x + (a + b)*y + (a + b)*z, (a + b)*x - (a + b)*y - (a + b)*z, -(a + b)*x + (a + b)*y - (a + b)*z, -(a + b)*x - (a + b)*y + (a + b)*z, (a - b)*x + (a - b)*y - (a - b)*z, (a - b)*x - (a - b)*y + (a - b)*z, -(a - b)*x + (a - b)*y + (a - b)*z, -(a - b)*x - (a - b)*y - (a - b)*z, c*x, (a - c)*y + (a - c)*z, -(b - c)*x + (b - c)*y - (b - c)*z, -(b - c)*x - (b - c)*y + (b - c)*z, (b - c)*x + (b - c)*y + (b - c)*z, (b - c)*x - (b - c)*y - (b - c)*z, (a + b)*x - (a + b)*z, (a - c)*y, (a + c)*x - (a + c)*z, b*y, (a + c)*y, b*y + b*z, (a + c)*y + (a + c)*z, (b + c)*z, -(b - c)*z, (a - b)*x - (a - b)*z, (a + b)*y - (a + b)*z, (a - b)*y + (a - b)*z, (a + b + c)*z, -(a + b - c)*z, -(a - b + c)*z, (a - b - c)*z, (a + b + c)*x + (a + b + c)*z, (a - b - c)*x + (a - b - c)*z, c*x + c*y + c*z, c*x - c*y - c*z, -c*x + c*y - c*z, -c*x - c*y + c*z, (b + c)*x, (b - c)*x, c*y - c*z, -a*y - a*z, c*x + c*z, c*z, -a*x + a*z, (b - c)*x + (b - c)*y, (b + c)*x + (b + c)*y - (b + c)*z, (b + c)*x - (b + c)*y + (b + c)*z, -(b + c)*x + (b + c)*y + (b + c)*z, -(b + c)*x - (b + c)*y - (b + c)*z, (a - c)*z, (a + c)*x + (a + c)*y, (a + b)*x, -(a - b)*x, (a - b)*x - (a - b)*y, -(a + b + c)*y, (a - b + c)*y, a*x, (a - b + c)*x + (a - b + c)*y + (a - b + c)*z, (a + b - c)*x + (a + b - c)*y + (a + b - c)*z, (a + b - c)*x - (a + b - c)*y - (a + b - c)*z, -(a + b - c)*x + (a + b - c)*y - (a + b - c)*z, -(a + b - c)*x - (a + b - c)*y + (a + b - c)*z, (a - b + c)*x - (a - b + c)*y - (a - b + c)*z, -(a - b + c)*x + (a - b + c)*y - (a - b + c)*z, -(a - b + c)*x - (a - b + c)*y + (a - b + c)*z, -(a - b - c)*x + (a - b - c)*y - (a - b - c)*z, b*x + b*y, (a + b + c)*x + (a + b + c)*y - (a + b + c)*z, (a + b + c)*x - (a + b + c)*y + (a + b + c)*z, -(a + b + c)*x + (a + b + c)*y + (a + b + c)*z, -(a + b + c)*x - (a + b + c)*y - (a + b + c)*z, (a - c)*x - (a - c)*z, -c*y, (a + b + c)*x - (a + b + c)*y, (a - b - c)*x - (a - b - c)*y, -(a + c)*x, -b*x, (a - c)*x + (a - c)*y + (a - c)*z, (a - c)*x - (a - c)*y - (a - c)*z, -(a - c)*x + (a - c)*y - (a - c)*z, -(a - c)*x - (a - c)*y + (a - c)*z, a*x - a*y, (b + c)*x + (b + c)*z, (b + c)*x - (b + c)*z, a*x + a*y, (a + b + c)*x + (a + b + c)*y, (a - c)*x + (a - c)*z, (a - b - c)*x + (a - b - c)*y, (a - b - c)*x + (a - b - c)*y + (a - b - c)*z, b*x - b*y, (a - b - c)*x - (a - b - c)*y - (a - b - c)*z, (a - b)*x + (a - b)*y, (a + c)*x - (a + c)*y, (b - c)*x - (b - c)*y, a*x + a*z, c*x - c*z, a*y - a*z, c*y + c*z, (a + b + c)*x - (a + b + c)*z, (a - b)*y - (a - b)*z, (a + b)*y + (a + b)*z, (a - b)*x + (a - b)*z, b*x + b*z, (a + c)*y - (a + c)*z, b*y - b*z, (a + c)*x + (a + c)*z, (a + b)*x + (a + b)*z, (a - c)*y - (a - c)*z, (a + b + c)*y - (a + b + c)*z, (a - b - c)*y - (a - b - c)*z, (b + c)*x - (b + c)*y, (a + b - c)*y + (a + b - c)*z, (a - b + c)*y + (a - b + c)*z, (a - b + c)*x - (a - b + c)*z, (a - c)*x + (a - c)*y, (a + b)*x - (a + b)*y, (b - c)*x + (b - c)*z, c*x + c*y, (b - c)*y + (b - c)*z, (b + c)*y - (b + c)*z, (a + b - c)*x - (a + b - c)*y, (a - b + c)*x - (a - b + c)*y]"
   ]
  },
  {
   "cell_type": "code",
   "execution_count": 12,
   "id": "11636441-2a11-4ac1-a0be-6430dfb1d0ff",
   "metadata": {},
   "outputs": [
    {
     "data": {
      "text/plain": [
       "{'a*z': 0,\n",
       " 'c*y': 1,\n",
       " 'a*x': 2,\n",
       " 'b*y': 3,\n",
       " 'a*y': 4,\n",
       " 'b*x': 5,\n",
       " 'c*x': 6,\n",
       " 'b*z': 7,\n",
       " 'c*z': 8}"
      ]
     },
     "execution_count": 12,
     "metadata": {},
     "output_type": "execute_result"
    }
   ],
   "source": [
    "dic"
   ]
  },
  {
   "cell_type": "code",
   "execution_count": 13,
   "id": "d419eef7-6d88-4dd1-bf1e-634e8a4c2923",
   "metadata": {},
   "outputs": [],
   "source": [
    "B = []\n",
    "for row in Res:\n",
    "    for term in row:\n",
    "        B.append(to_vec(str(term.simplify_full())))\n",
    "B = column_matrix(B)"
   ]
  },
  {
   "cell_type": "code",
   "execution_count": 14,
   "id": "07f7faa6-d8df-4724-a49e-ad407d3a92db",
   "metadata": {},
   "outputs": [
    {
     "data": {
      "text/plain": [
       "[a*z, c*y, a*x, b*y, a*y, b*x, c*x, b*z, c*z]"
      ]
     },
     "execution_count": 14,
     "metadata": {},
     "output_type": "execute_result"
    }
   ],
   "source": [
    "polynomials"
   ]
  },
  {
   "cell_type": "code",
   "execution_count": 15,
   "id": "4cdc236c-ce63-46ca-bd45-ebc4a9af133f",
   "metadata": {},
   "outputs": [
    {
     "data": {
      "text/plain": [
       "[0 0 0 0]\n",
       "[0 0 1 0]\n",
       "[1 0 0 0]\n",
       "[1 0 0 1]\n",
       "[0 1 0 0]\n",
       "[0 0 1 0]\n",
       "[0 0 0 0]\n",
       "[0 1 0 0]\n",
       "[0 0 0 1]"
      ]
     },
     "execution_count": 15,
     "metadata": {},
     "output_type": "execute_result"
    }
   ],
   "source": [
    "B"
   ]
  },
  {
   "cell_type": "code",
   "execution_count": 16,
   "id": "c7e82d80-ee11-4a93-99bf-f1dd676a5aa3",
   "metadata": {},
   "outputs": [
    {
     "data": {
      "text/plain": [
       "[a*x + b*y a*y + b*z]\n",
       "[b*x + c*y b*y + c*z]"
      ]
     },
     "execution_count": 16,
     "metadata": {},
     "output_type": "execute_result"
    }
   ],
   "source": [
    "Res"
   ]
  },
  {
   "cell_type": "code",
   "execution_count": 17,
   "id": "43e96650-f11e-4049-a359-344704d8480c",
   "metadata": {},
   "outputs": [],
   "source": [
    "ur = Res[0,1]\n",
    "dl = Res[1,0]\n",
    "c1 = column_matrix([to_vec(str(ur.simplify_full()))])\n",
    "c2 = column_matrix([to_vec(str(dl.simplify_full()))])\n",
    "\n",
    "comm = c1-c2"
   ]
  },
  {
   "cell_type": "code",
   "execution_count": 18,
   "id": "8a2b8f7d-9f9d-4715-986f-a5434f14aa42",
   "metadata": {},
   "outputs": [],
   "source": [
    "nr_mults = 4"
   ]
  },
  {
   "cell_type": "code",
   "execution_count": 19,
   "id": "7b961499-0576-4dad-bbef-064109bcc8c6",
   "metadata": {},
   "outputs": [
    {
     "name": "stdout",
     "output_type": "stream",
     "text": [
      "CPU times: user 2min 18s, sys: 53.9 ms, total: 2min 18s\n",
      "Wall time: 2min 18s\n"
     ]
    }
   ],
   "source": [
    "%%time\n",
    "\n",
    "sols = []\n",
    "for cols in itertools.combinations(range(L.ncols()), nr_mults):\n",
    "    try:\n",
    "        A = L.matrix_from_columns(cols)\n",
    "        Ac = A.augment(comm)\n",
    "        tmp = Ac.solve_right(B)\n",
    "        sols.append((cols, tmp))\n",
    "    except:\n",
    "        continue"
   ]
  },
  {
   "cell_type": "code",
   "execution_count": 20,
   "id": "843d44fb-c9c1-4b43-a667-5030b1c18cc5",
   "metadata": {},
   "outputs": [],
   "source": [
    "def count_post_adds(X):\n",
    "    cnt = 0\n",
    "    for col in X.T:\n",
    "        cnt_col = 0\n",
    "        for ent in col:\n",
    "            if ent != 0:\n",
    "                cnt_col += 1\n",
    "        if cnt_col > 0:\n",
    "            cnt_col -= 1\n",
    "        cnt += cnt_col\n",
    "    return cnt\n",
    "\n",
    "cnt_sums_col = {0:0, 1: 0, 2: 1, 3: 2, 4: 2, 6: 3, 9: 4}\n",
    "\n",
    "def count_pre_adds(X):\n",
    "    cnt = 0\n",
    "    for col in X.T:\n",
    "        cnt_col = 0\n",
    "        for ent in col:\n",
    "            if ent != 0:\n",
    "                cnt_col += 1\n",
    "        cnt += cnt_sums_col[cnt_col]\n",
    "    return cnt"
   ]
  },
  {
   "cell_type": "code",
   "execution_count": 21,
   "id": "75175407-9129-4c6c-a900-1e69533cfbd3",
   "metadata": {},
   "outputs": [],
   "source": [
    "def get_matrix(cols):\n",
    "    A = L.matrix_from_columns(cols)\n",
    "    Ac = A.augment(comm)\n",
    "    return Ac"
   ]
  },
  {
   "cell_type": "code",
   "execution_count": 22,
   "id": "b3a40f97-6088-4e56-a8da-8a2b1edf7f97",
   "metadata": {},
   "outputs": [],
   "source": [
    "def cnt_sums(AcX):\n",
    "    Ac, X = AcX\n",
    "    return count_pre_adds(Ac) + count_post_adds(X)*2"
   ]
  },
  {
   "cell_type": "code",
   "execution_count": 23,
   "id": "4d945b4b-d66f-4cdb-8936-41dddd86f973",
   "metadata": {},
   "outputs": [],
   "source": [
    "# ignores last column\n",
    "adds_Mats_Xs = sorted(tuple(map(lambda AcX: (cnt_sums(AcX), AcX[0], AcX[1]), map(lambda AcX: (get_matrix(AcX[0])[:,0:-1], AcX[1]), sols))))"
   ]
  },
  {
   "cell_type": "code",
   "execution_count": 24,
   "id": "8d2baa9c-69ec-4098-9fce-fabf32ee922d",
   "metadata": {},
   "outputs": [],
   "source": [
    "def get_symbolic_matrix(mat):\n",
    "    return matrix([tuple(val*poly for (val, poly) in zip(row, polynomials)) for row in mat.T]).T"
   ]
  },
  {
   "cell_type": "code",
   "execution_count": 25,
   "id": "3f786a50-d3da-4581-b09f-f71abead2087",
   "metadata": {},
   "outputs": [],
   "source": [
    "def get_sym_col(mat):\n",
    "    print(mat)\n",
    "    return [sum(col).factor() for col in get_symbolic_matrix(mat).T]"
   ]
  },
  {
   "cell_type": "code",
   "execution_count": 26,
   "id": "6107ec26-a6e1-4c62-b288-3671e49006cd",
   "metadata": {},
   "outputs": [
    {
     "name": "stdout",
     "output_type": "stream",
     "text": [
      "Number of additions are: 14\n",
      "[ 0  0  0  0]\n",
      "[ 0  0  0  0]\n",
      "[ 0  0 -1  0]\n",
      "[-1  0  0  1]\n",
      "[-1  0  1  0]\n",
      "[ 0  0  0  0]\n",
      "[ 0  0  0  0]\n",
      "[ 0  1  0 -1]\n",
      "[ 0  1  0  0]\n",
      "What you need to multiply:\n",
      "[-(a + b)*y, (b + c)*z, -a*(x - y), b*(y - z)]\n",
      "How to add the terms above:\n",
      "[-1 -1 -1  0]\n",
      "[ 0  0  0  1]\n",
      "[-1  0  0  0]\n",
      "[ 0 -1 -1  1]\n",
      "[ 0  0 -1  0]\n",
      "\n",
      "Number of additions are: 14\n",
      "[ 0  0  0  0]\n",
      "[ 0  0  0  0]\n",
      "[ 0  0  0  1]\n",
      "[ 1  0  1  0]\n",
      "[-1  0  0  1]\n",
      "[ 0  0  0  0]\n",
      "[ 0  0  0  0]\n",
      "[ 0 -1  1  0]\n",
      "[ 0  1  0  0]\n",
      "What you need to multiply:\n",
      "[-(a - b)*y, -(b - c)*z, b*(y + z), a*(x + y)]\n",
      "How to add the terms above:\n",
      "[ 1 -1 -1  0]\n",
      "[ 0  0  0  1]\n",
      "[ 0  1  1  1]\n",
      "[ 1  0  0  0]\n",
      "[ 0  0 -1  0]\n",
      "\n",
      "Number of additions are: 14\n",
      "[ 0  0  0  0]\n",
      "[ 0  0  1 -1]\n",
      "[ 0  1  0  0]\n",
      "[ 1  0 -1  0]\n",
      "[ 0  0  0  0]\n",
      "[ 1 -1  0  0]\n",
      "[ 0  0  0  0]\n",
      "[ 0  0  0  0]\n",
      "[ 0  0  0 -1]\n",
      "What you need to multiply:\n",
      "[b*(x + y), (a - b)*x, -(b - c)*y, -c*(y + z)]\n",
      "How to add the terms above:\n",
      "[ 1  1  1  0]\n",
      "[ 1  0  0  0]\n",
      "[ 0  1  1 -1]\n",
      "[ 0  0  0 -1]\n",
      "[ 0  1  0  0]\n",
      "\n",
      "Number of additions are: 14\n",
      "[ 0  0  0  0]\n",
      "[ 0  1  1  0]\n",
      "[-1  0  0  0]\n",
      "[ 0  1  0 -1]\n",
      "[ 0  0  0  0]\n",
      "[-1  0  0  1]\n",
      "[ 0  0  0  0]\n",
      "[ 0  0  0  0]\n",
      "[ 0  0 -1  0]\n",
      "What you need to multiply:\n",
      "[-(a + b)*x, (b + c)*y, c*(y - z), b*(x - y)]\n",
      "How to add the terms above:\n",
      "[-1  0  0  0]\n",
      "[ 0  1  1  1]\n",
      "[ 0  0  0 -1]\n",
      "[-1  1  1  0]\n",
      "[ 0  1  0  0]\n",
      "\n",
      "Number of additions are: 20\n",
      "[-1  1  1  1]\n",
      "[ 0  0  0  0]\n",
      "[ 0  0  0 -1]\n",
      "[-1  0  1  0]\n",
      "[ 1  0  1  0]\n",
      "[ 0  0  0  0]\n",
      "[ 0  0  0  0]\n",
      "[ 1  0  1  0]\n",
      "[ 0 -1  0  0]\n",
      "What you need to multiply:\n",
      "[(a - b)*(y - z), (a - c)*z, (a + b)*(y + z), -a*(x - z)]\n",
      "How to add the terms above:\n",
      "[-1/2  1/2  1/2 -1/2]\n",
      "[   0    0    0   -1]\n",
      "[ 1/2  1/2  1/2  1/2]\n",
      "[  -1    0    0    0]\n",
      "[   0    0   -1    0]\n",
      "\n",
      "Number of additions are: 20\n",
      "[ 0  0  0  0]\n",
      "[ 0 -1  1  0]\n",
      "[ 0  0  0 -1]\n",
      "[ 0  1  1  0]\n",
      "[ 0  0  0  0]\n",
      "[ 0 -1  1  0]\n",
      "[ 1  1  1  1]\n",
      "[ 0  0  0  0]\n",
      "[-1  0  0  0]\n",
      "What you need to multiply:\n",
      "[c*(x - z), -(b - c)*(x - y), (b + c)*(x + y), -(a - c)*x]\n",
      "How to add the terms above:\n",
      "[   0    0    0   -1]\n",
      "[ 1/2 -1/2 -1/2  1/2]\n",
      "[ 1/2  1/2  1/2  1/2]\n",
      "[  -1    0    0    0]\n",
      "[   0    1    0    0]\n",
      "\n",
      "Number of additions are: 27\n",
      "[ 0  0  0  0]\n",
      "[-1  0 -1  0]\n",
      "[ 0  1  0  1]\n",
      "[ 0  1  1  1]\n",
      "[ 1 -1  0  1]\n",
      "[ 0 -1  0  1]\n",
      "[ 0  0  0  0]\n",
      "[ 0  0 -1  0]\n",
      "[ 0  0  1  0]\n",
      "What you need to multiply:\n",
      "[(a - c)*y, (a - b)*(x - y), (b - c)*(y - z), (a + b)*(x + y)]\n",
      "How to add the terms above:\n",
      "[   0   -1   -1   -2]\n",
      "[ 1/2 -1/2 -1/2 -1/2]\n",
      "[   0    0    0    1]\n",
      "[ 1/2  1/2  1/2  1/2]\n",
      "[   0    1    0    1]\n",
      "\n",
      "Number of additions are: 27\n",
      "[ 0  0  0  0]\n",
      "[-1  1 -1  0]\n",
      "[ 0  0  0  1]\n",
      "[ 0  1  1  1]\n",
      "[ 1  0  0  1]\n",
      "[ 0  0  0  1]\n",
      "[ 0  0  0  0]\n",
      "[ 0  1 -1  0]\n",
      "[ 0  1  1  0]\n",
      "What you need to multiply:\n",
      "[(a - c)*y, (b + c)*(y + z), (b - c)*(y - z), (a + b)*(x + y)]\n",
      "How to add the terms above:\n",
      "[  -2    1    1    0]\n",
      "[-1/2  1/2  1/2  1/2]\n",
      "[ 1/2 -1/2 -1/2  1/2]\n",
      "[   1    0    0    0]\n",
      "[   1    0   -1    0]\n",
      "\n",
      "Number of additions are: 27\n",
      "[ 0  0  0  0]\n",
      "[-1  1  0 -1]\n",
      "[ 0  0  1  0]\n",
      "[ 0  1  1  1]\n",
      "[ 1  0 -1  0]\n",
      "[ 0  0 -1  0]\n",
      "[ 0  0  0  0]\n",
      "[ 0  1  0 -1]\n",
      "[ 0  1  0  1]\n",
      "What you need to multiply:\n",
      "[(a - c)*y, (b + c)*(y + z), (a - b)*(x - y), (b - c)*(y - z)]\n",
      "How to add the terms above:\n",
      "[   2    1    1    0]\n",
      "[ 1/2  1/2  1/2  1/2]\n",
      "[   1    0    0    0]\n",
      "[-1/2 -1/2 -1/2  1/2]\n",
      "[  -1    0   -1    0]\n",
      "\n",
      "Number of additions are: 27\n",
      "[ 0  0  0  0]\n",
      "[-1  1  0  0]\n",
      "[ 0  0  1  1]\n",
      "[ 0  1  1  1]\n",
      "[ 1  0 -1  1]\n",
      "[ 0  0 -1  1]\n",
      "[ 0  0  0  0]\n",
      "[ 0  1  0  0]\n",
      "[ 0  1  0  0]\n",
      "What you need to multiply:\n",
      "[(a - c)*y, (b + c)*(y + z), (a - b)*(x - y), (a + b)*(x + y)]\n",
      "How to add the terms above:\n",
      "[   0   -1   -1    2]\n",
      "[   0    0    0    1]\n",
      "[ 1/2 -1/2 -1/2  1/2]\n",
      "[ 1/2  1/2  1/2 -1/2]\n",
      "[   0    1    0   -1]\n",
      "\n",
      "Number of additions are: 27\n",
      "[ 0  0  0  0]\n",
      "[ 0 -1  0  0]\n",
      "[ 1  0  0  1]\n",
      "[ 1  1  0  1]\n",
      "[-1  0  0  1]\n",
      "[-1  0 -1  1]\n",
      "[ 0  0  0  0]\n",
      "[ 0 -1  1  0]\n",
      "[ 0  1  0  0]\n",
      "What you need to multiply:\n",
      "[(a - b)*(x - y), (b - c)*(y - z), -b*(x - z), (a + b)*(x + y)]\n",
      "How to add the terms above:\n",
      "[ 1/2 -1/2 -1/2 -1/2]\n",
      "[   0    0    0    1]\n",
      "[   0    1    1    2]\n",
      "[ 1/2  1/2  1/2  1/2]\n",
      "[   0    0   -1   -1]\n",
      "\n",
      "Number of additions are: 27\n",
      "[ 0  0  0  0]\n",
      "[ 1 -1  0  0]\n",
      "[ 0  0  0  1]\n",
      "[ 1  1  0  1]\n",
      "[ 0  0  0  1]\n",
      "[ 0  0 -1  1]\n",
      "[ 0  0  0  0]\n",
      "[ 1 -1  1  0]\n",
      "[ 1  1  0  0]\n",
      "What you need to multiply:\n",
      "[(b + c)*(y + z), (b - c)*(y - z), -b*(x - z), (a + b)*(x + y)]\n",
      "How to add the terms above:\n",
      "[-1/2  1/2  1/2  1/2]\n",
      "[ 1/2 -1/2 -1/2  1/2]\n",
      "[   2   -1   -1    0]\n",
      "[   1    0    0    0]\n",
      "[  -1    1    0    0]\n",
      "\n",
      "Number of additions are: 27\n",
      "[ 0  0  0  0]\n",
      "[ 1  0 -1  0]\n",
      "[ 0  1  0  0]\n",
      "[ 1  1  1  0]\n",
      "[ 0 -1  0  0]\n",
      "[ 0 -1  0 -1]\n",
      "[ 0  0  0  0]\n",
      "[ 1  0 -1  1]\n",
      "[ 1  0  1  0]\n",
      "What you need to multiply:\n",
      "[(b + c)*(y + z), (a - b)*(x - y), (b - c)*(y - z), -b*(x - z)]\n",
      "How to add the terms above:\n",
      "[ 1/2  1/2  1/2  1/2]\n",
      "[   1    0    0    0]\n",
      "[-1/2 -1/2 -1/2  1/2]\n",
      "[  -2   -1   -1    0]\n",
      "[   1    1    0    0]\n",
      "\n",
      "Number of additions are: 27\n",
      "[ 0  0  0  0]\n",
      "[ 1  0  0  0]\n",
      "[ 0  1  0  1]\n",
      "[ 1  1  0  1]\n",
      "[ 0 -1  0  1]\n",
      "[ 0 -1 -1  1]\n",
      "[ 0  0  0  0]\n",
      "[ 1  0  1  0]\n",
      "[ 1  0  0  0]\n",
      "What you need to multiply:\n",
      "[(b + c)*(y + z), (a - b)*(x - y), -b*(x - z), (a + b)*(x + y)]\n",
      "How to add the terms above:\n",
      "[   0    0    0    1]\n",
      "[ 1/2 -1/2 -1/2  1/2]\n",
      "[   0    1    1   -2]\n",
      "[ 1/2  1/2  1/2 -1/2]\n",
      "[   0    0   -1    1]\n",
      "\n",
      "Number of additions are: 28\n",
      "[ 0  0  0  0]\n",
      "[ 1  0 -1  0]\n",
      "[ 0  1  0  1]\n",
      "[ 1  1  1  1]\n",
      "[ 0 -1  0  1]\n",
      "[ 0 -1  0  1]\n",
      "[ 0  0  0  0]\n",
      "[ 1  0 -1  0]\n",
      "[ 1  0  1  0]\n",
      "What you need to multiply:\n",
      "[(b + c)*(y + z), (a - b)*(x - y), (b - c)*(y - z), (a + b)*(x + y)]\n",
      "How to add the terms above:\n",
      "[   0  1/4  1/4  1/2]\n",
      "[ 1/2 -1/4 -1/4    0]\n",
      "[   0 -1/4 -1/4  1/2]\n",
      "[ 1/2  1/4  1/4    0]\n",
      "[   0  1/2 -1/2    0]\n",
      "\n"
     ]
    }
   ],
   "source": [
    "for adds, Mat, X in adds_Mats_Xs:\n",
    "    print(f'Number of additions are: {adds}')\n",
    "    cols = get_sym_col(Mat)\n",
    "    \n",
    "    print(f'What you need to multiply:')\n",
    "    print(cols)\n",
    "    \n",
    "    print(f'How to add the terms above:')\n",
    "    print(X)\n",
    "\n",
    "    #print(get_symbolic_matrix(Mat).mul(X, hold = True))\n",
    "    print()\n"
   ]
  },
  {
   "cell_type": "code",
   "execution_count": null,
   "id": "21126e50-7cb0-4c43-99b0-5dc6438227cd",
   "metadata": {},
   "outputs": [],
   "source": []
  },
  {
   "cell_type": "code",
   "execution_count": null,
   "id": "3148fbb0-9a76-4181-946c-fedbacb29c37",
   "metadata": {},
   "outputs": [],
   "source": []
  },
  {
   "cell_type": "code",
   "execution_count": null,
   "id": "fa9cfaff-06c9-4b54-88f8-4c2c445c6322",
   "metadata": {},
   "outputs": [],
   "source": []
  }
 ],
 "metadata": {
  "kernelspec": {
   "display_name": "SageMath 10.4",
   "language": "sage",
   "name": "sagemath-10.4"
  },
  "language_info": {
   "codemirror_mode": {
    "name": "ipython",
    "version": 3
   },
   "file_extension": ".py",
   "mimetype": "text/x-python",
   "name": "python",
   "nbconvert_exporter": "python",
   "pygments_lexer": "ipython3",
   "version": "3.12.4"
  }
 },
 "nbformat": 4,
 "nbformat_minor": 5
}
